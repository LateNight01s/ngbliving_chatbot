{
  "nbformat": 4,
  "nbformat_minor": 0,
  "metadata": {
    "colab": {
      "name": "NBG_ChatBot.ipynb",
      "provenance": [],
      "collapsed_sections": []
    },
    "kernelspec": {
      "name": "python3",
      "display_name": "Python 3"
    }
  },
  "cells": [
    {
      "cell_type": "markdown",
      "metadata": {
        "id": "5RTO7Vcood6N",
        "colab_type": "text"
      },
      "source": [
        "# NGB ChatBot"
      ]
    },
    {
      "cell_type": "markdown",
      "metadata": {
        "id": "iLBaJq57S8N4",
        "colab_type": "text"
      },
      "source": [
        "## Setup"
      ]
    },
    {
      "cell_type": "code",
      "metadata": {
        "id": "lkM2IKaMoTcF",
        "colab_type": "code",
        "colab": {
          "base_uri": "https://localhost:8080/",
          "height": 34
        },
        "outputId": "b5530dff-6256-4e4d-f6c8-a8f1b9527838"
      },
      "source": [
        "from google.colab import drive\n",
        "drive.mount('/content/mnt/', force_remount=True)"
      ],
      "execution_count": 71,
      "outputs": [
        {
          "output_type": "stream",
          "text": [
            "Mounted at /content/mnt/\n"
          ],
          "name": "stdout"
        }
      ]
    },
    {
      "cell_type": "code",
      "metadata": {
        "id": "nVihJTjlpAJj",
        "colab_type": "code",
        "colab": {}
      },
      "source": [
        "ngb_path='/content/mnt/My Drive/ngb'"
      ],
      "execution_count": 165,
      "outputs": []
    },
    {
      "cell_type": "code",
      "metadata": {
        "id": "TK2LO8NLqzgg",
        "colab_type": "code",
        "colab": {
          "base_uri": "https://localhost:8080/",
          "height": 68
        },
        "outputId": "ee3661c9-4201-49ba-8521-943ad2f3660f"
      },
      "source": [
        "from os import listdir\n",
        "for i in listdir(ngb_path): print(i)"
      ],
      "execution_count": 166,
      "outputs": [
        {
          "output_type": "stream",
          "text": [
            "ngb_data.txt\n",
            "en_core_web_lg-2.3.1.tar.gz\n",
            "ngb_data.csv\n"
          ],
          "name": "stdout"
        }
      ]
    },
    {
      "cell_type": "markdown",
      "metadata": {
        "id": "UcPTOFB-TcNi",
        "colab_type": "text"
      },
      "source": [
        "## Libraries required"
      ]
    },
    {
      "cell_type": "code",
      "metadata": {
        "id": "Gy9CBeL2lvpf",
        "colab_type": "code",
        "colab": {}
      },
      "source": [
        "# pip install wmd"
      ],
      "execution_count": 74,
      "outputs": []
    },
    {
      "cell_type": "code",
      "metadata": {
        "id": "JZ7Vk_wNWgmE",
        "colab_type": "code",
        "colab": {}
      },
      "source": [
        "# pip install -U spacy"
      ],
      "execution_count": 75,
      "outputs": []
    },
    {
      "cell_type": "code",
      "metadata": {
        "id": "XyFkFFyoreJi",
        "colab_type": "code",
        "colab": {}
      },
      "source": [
        "%matplotlib inline\n",
        "import pandas as pd\n",
        "import numpy as np\n",
        "from sklearn import preprocessing\n",
        "import matplotlib.pyplot as plt\n",
        "import seaborn as sns\n",
        "from sklearn.manifold import TSNE\n",
        "import re\n",
        "import unicodedata\n",
        "from collections import Counter\n",
        "import tarfile\n",
        "import nltk\n",
        "import spacy\n",
        "import wmd"
      ],
      "execution_count": 121,
      "outputs": []
    },
    {
      "cell_type": "code",
      "metadata": {
        "id": "K4qycTLw-CET",
        "colab_type": "code",
        "colab": {}
      },
      "source": [
        "with tarfile.open(f'{ngb_path}/en_core_web_lg-2.3.1.tar.gz', 'r:gz') as tref:\n",
        "    tref.extractall()"
      ],
      "execution_count": null,
      "outputs": []
    },
    {
      "cell_type": "code",
      "metadata": {
        "id": "4NZIuD10PnIJ",
        "colab_type": "code",
        "colab": {}
      },
      "source": [
        "nlp = spacy.load('en_core_web_lg-2.3.1/en_core_web_lg/en_core_web_lg-2.3.1')\n",
        "# nlp.add_pipe(wmd.WMD.SpacySimilarityHook(nlp), last=True)\n",
        "stop_words = nlp.Defaults.stop_words"
      ],
      "execution_count": 239,
      "outputs": []
    },
    {
      "cell_type": "markdown",
      "metadata": {
        "id": "1-v74kYbTFxo",
        "colab_type": "text"
      },
      "source": [
        "## Data Preprocessing"
      ]
    },
    {
      "cell_type": "code",
      "metadata": {
        "id": "ME9gyHf2sFTR",
        "colab_type": "code",
        "colab": {}
      },
      "source": [
        "df = pd.read_csv(f'{ngb_path}/ngb_data.csv', encoding='utf8')"
      ],
      "execution_count": 167,
      "outputs": []
    },
    {
      "cell_type": "code",
      "metadata": {
        "id": "BXGRXGjddxkL",
        "colab_type": "code",
        "colab": {
          "base_uri": "https://localhost:8080/",
          "height": 102
        },
        "outputId": "9ef4a720-4c6e-4d04-d8d9-d5ca5fa10f29"
      },
      "source": [
        "df_numpy = df.to_numpy()\n",
        "data = [unicodedata.normalize(\"NFKD\", str(doc[0]).lower()) for doc in df_numpy]\n",
        "for doc in data[:5]: print(doc)"
      ],
      "execution_count": 168,
      "outputs": [
        {
          "output_type": "stream",
          "text": [
            "ngb living is based in berlin and offers a constantly growing number of residential flats with fully furnished rooms to rent in prime super city locations in berlin.\n",
            "ngb living official mail id is info@ngb-living.de\n",
            "if the front door of the building is damaged or broken please take it pictures and raise the ticket immediately on yourplace app.\n",
            "if elevator or lift is not working than contact the property management. this issue is addressed by the property management.\n",
            "if doorbell is not working then please raise the ticket on yourplace app.\n"
          ],
          "name": "stdout"
        }
      ]
    },
    {
      "cell_type": "code",
      "metadata": {
        "id": "uafP319VSgZd",
        "colab_type": "code",
        "colab": {}
      },
      "source": [
        "def  remove_stopwords(corpus):\n",
        "    for i,doc in enumerate(corpus) :\n",
        "        text = ''\n",
        "        for token in nlp(doc):\n",
        "            word = token.text\n",
        "            if word not in stop_words and len(word)>1: \n",
        "                text = text + ' ' + word\n",
        "        corpus[i] = text.strip()\n",
        "\n",
        "    return corpus"
      ],
      "execution_count": 80,
      "outputs": []
    },
    {
      "cell_type": "code",
      "metadata": {
        "id": "mWt6sH4dkOMy",
        "colab_type": "code",
        "colab": {}
      },
      "source": [
        "def remove_punctuations(corpus):\n",
        "    # symbols = \"!\\\"#$%&()*+-./:;,<=>?@[\\]^_`{|}~\\n\"\n",
        "    # table = str.maketrans('', '', symbols)\n",
        "    for i, doc in enumerate(corpus):\n",
        "        sent = doc\n",
        "        sent = re.sub(r'[^\\w\\s]', ' ', sent)\n",
        "        sent = re.sub('\\s*\\\\n+', ' ', sent)\n",
        "        sent = re.sub('ngb\\s*living', 'ngbliving', sent)\n",
        "        corpus[i] = sent.strip()\n",
        "        # corpus[i] = doc.translate(table)\n",
        "\n",
        "    return corpus"
      ],
      "execution_count": 198,
      "outputs": []
    },
    {
      "cell_type": "code",
      "metadata": {
        "id": "v2Iot82s2iEh",
        "colab_type": "code",
        "colab": {}
      },
      "source": [
        "def lemmatize(corpus):\n",
        "    for i, doc in enumerate(corpus):\n",
        "        tokens = nlp(doc)\n",
        "        text = ''\n",
        "        for token in tokens:\n",
        "            if (token.text).isspace() or len(token.text)<3: continue\n",
        "            text += token.lemma_ + ' '\n",
        "        corpus[i] = text.strip()\n",
        "\n",
        "    return corpus"
      ],
      "execution_count": 199,
      "outputs": []
    },
    {
      "cell_type": "code",
      "metadata": {
        "id": "vy7XAfkvXHxZ",
        "colab_type": "code",
        "colab": {}
      },
      "source": [
        "def preprocess(corpus):\n",
        "    corpus = remove_stopwords(corpus)\n",
        "    corpus = remove_punctuations(corpus)\n",
        "    corpus = lemmatize(corpus)\n",
        "\n",
        "    return corpus"
      ],
      "execution_count": 297,
      "outputs": []
    },
    {
      "cell_type": "code",
      "metadata": {
        "id": "oNCwVpuP-Td8",
        "colab_type": "code",
        "colab": {}
      },
      "source": [
        "def get_vocab(data):\n",
        "    wc = {}\n",
        "    for doc in data:\n",
        "        for token in nlp(doc):\n",
        "            word = token.text\n",
        "            try: wc[word] += 1\n",
        "            except: wc[word] = 1\n",
        "\n",
        "    return wc\n",
        "\n",
        "def get_oov(data, wc):\n",
        "    oov = {}\n",
        "    for doc in data:\n",
        "        for token in nlp(doc):\n",
        "            if not token.has_vector and token.text not in oov: \n",
        "                oov[token.text] =  wc[token.text]\n",
        "\n",
        "    return oov"
      ],
      "execution_count": 83,
      "outputs": []
    },
    {
      "cell_type": "code",
      "metadata": {
        "id": "__wQRJBJCrUR",
        "colab_type": "code",
        "colab": {
          "base_uri": "https://localhost:8080/",
          "height": 51
        },
        "outputId": "200461db-6789-45ab-cd18-e047036f8ce6"
      },
      "source": [
        "pdata = data[:]\n",
        "pdata = preprocess(pdata)\n",
        "\n",
        "data[1], pdata[1]"
      ],
      "execution_count": 298,
      "outputs": [
        {
          "output_type": "execute_result",
          "data": {
            "text/plain": [
              "('ngb living official mail id is info@ngb-living.de',\n",
              " 'ngbliving official mail info ngbliving')"
            ]
          },
          "metadata": {
            "tags": []
          },
          "execution_count": 298
        }
      ]
    },
    {
      "cell_type": "code",
      "metadata": {
        "id": "WOC3G_LE_Xxt",
        "colab_type": "code",
        "colab": {
          "base_uri": "https://localhost:8080/",
          "height": 187
        },
        "outputId": "28f0e50e-e800-4f20-f880-2e3af22e8b00"
      },
      "source": [
        "wc = get_vocab(pdata)\n",
        "oov = get_oov(pdata, wc)\n",
        "wc_top = sorted(wc.items(), key=lambda x: x[1])[::-1]\n",
        "oov_top = sorted(oov.items(), key=lambda x: x[1])[::-1]\n",
        "\n",
        "wc_top[:10]"
      ],
      "execution_count": 202,
      "outputs": [
        {
          "output_type": "execute_result",
          "data": {
            "text/plain": [
              "[('contact', 35),\n",
              " ('room', 32),\n",
              " ('problem', 23),\n",
              " ('key', 21),\n",
              " ('office', 19),\n",
              " ('contract', 19),\n",
              " ('rent', 18),\n",
              " ('ngbliving', 18),\n",
              " ('damage', 17),\n",
              " ('check', 15)]"
            ]
          },
          "metadata": {
            "tags": []
          },
          "execution_count": 202
        }
      ]
    },
    {
      "cell_type": "markdown",
      "metadata": {
        "id": "4709AZBqbsbR",
        "colab_type": "text"
      },
      "source": [
        "## TF-IDF"
      ]
    },
    {
      "cell_type": "code",
      "metadata": {
        "id": "vNk8cS6uc857",
        "colab_type": "code",
        "colab": {}
      },
      "source": [
        "docs = [[token.text for token in nlp(doc) if not (token.text).isspace()] for doc in pdata]"
      ],
      "execution_count": 203,
      "outputs": []
    },
    {
      "cell_type": "markdown",
      "metadata": {
        "id": "tZR9JuWfbzhs",
        "colab_type": "text"
      },
      "source": [
        "### DF"
      ]
    },
    {
      "cell_type": "code",
      "metadata": {
        "id": "28QRvJ0o8fiS",
        "colab_type": "code",
        "colab": {
          "base_uri": "https://localhost:8080/",
          "height": 34
        },
        "outputId": "db38c34a-0823-416a-ee1f-1412075f3c8c"
      },
      "source": [
        "DF = {}\n",
        "for i, doc in enumerate(docs):\n",
        "    for word in doc:\n",
        "        try:\n",
        "            DF[word].add(i)\n",
        "        except:\n",
        "            DF[word] = {i}\n",
        "\n",
        "for i in DF: DF[i] = len(DF[i])\n",
        "\n",
        "vocab = [w for w in DF]\n",
        "print('total vocab:', len(vocab))"
      ],
      "execution_count": 204,
      "outputs": [
        {
          "output_type": "stream",
          "text": [
            "total vocab: 652\n"
          ],
          "name": "stdout"
        }
      ]
    },
    {
      "cell_type": "markdown",
      "metadata": {
        "id": "HTEeYyFFwNSA",
        "colab_type": "text"
      },
      "source": [
        "### TF and IDF"
      ]
    },
    {
      "cell_type": "code",
      "metadata": {
        "id": "b4vrl50TygWa",
        "colab_type": "code",
        "colab": {
          "base_uri": "https://localhost:8080/",
          "height": 102
        },
        "outputId": "aaee49a2-6b25-49fa-d74c-1f9ae7067c64"
      },
      "source": [
        "tf_idf = {}\n",
        "N = len(docs)\n",
        "for i, doc in enumerate(docs):\n",
        "    counter = Counter(doc)\n",
        "    for term in set(doc):\n",
        "        tf = counter[term]/len(doc)\n",
        "        df = DF[term]\n",
        "        idf = np.log(N/(df+1))\n",
        "        tf_idf[i, term] = tf * idf\n",
        "\n",
        "for k in list(tf_idf)[:5]: print(k, tf_idf[k])"
      ],
      "execution_count": 205,
      "outputs": [
        {
          "output_type": "stream",
          "text": [
            "(0, 'grow') 0.1925408834888737\n",
            "(0, 'constantly') 0.1925408834888737\n",
            "(0, 'number') 0.1700150441495312\n",
            "(0, 'furnish') 0.1925408834888737\n",
            "(0, 'ngbliving') 0.07701635339554948\n"
          ],
          "name": "stdout"
        }
      ]
    },
    {
      "cell_type": "markdown",
      "metadata": {
        "id": "fcYx3NlN-Kg3",
        "colab_type": "text"
      },
      "source": [
        "### Vectorization\n"
      ]
    },
    {
      "cell_type": "code",
      "metadata": {
        "id": "1bwhWD3C-I_C",
        "colab_type": "code",
        "colab": {
          "base_uri": "https://localhost:8080/",
          "height": 34
        },
        "outputId": "af111d8a-7e91-4ff5-80a4-863427c8f7fe"
      },
      "source": [
        "docs_vector = np.zeros((N, len(vocab)))\n",
        "for score in tf_idf:\n",
        "    idx = vocab.index(score[1])\n",
        "    docs_vector[score[0]][idx] = tf_idf[score]\n",
        " \n",
        "docs_vector.shape"
      ],
      "execution_count": 206,
      "outputs": [
        {
          "output_type": "execute_result",
          "data": {
            "text/plain": [
              "(64, 652)"
            ]
          },
          "metadata": {
            "tags": []
          },
          "execution_count": 206
        }
      ]
    },
    {
      "cell_type": "markdown",
      "metadata": {
        "id": "5e4GT4tkiN53",
        "colab_type": "text"
      },
      "source": [
        "## GloVe (tf-idf weighted averaged document vector)"
      ]
    },
    {
      "cell_type": "code",
      "metadata": {
        "id": "Qg-8lCpjibQ9",
        "colab_type": "code",
        "colab": {}
      },
      "source": [
        "def getWeightedVec(sent, i=0, q=False, tfidf=0):\n",
        "    weights, vectors = [], []\n",
        "    doc = nlp(sent)\n",
        "    for token in doc:\n",
        "        if token.has_vector:\n",
        "            term = token.text\n",
        "            if len(term) < 3: continue\n",
        "            # if  q is False: \n",
        "            #     weight = tf_idf[i, term]\n",
        "            # else: \n",
        "            #     weight = tfidf\n",
        "            # weights.append(weight)\n",
        "            vectors.append(token.vector)\n",
        "    \n",
        "    # try: doc_vec = np.average(vectors, weights=weights, axis=0)\n",
        "    try: doc_vec = np.average(vectors, axis=0)\n",
        "    except: return doc.vector\n",
        "\n",
        "    return doc_vec"
      ],
      "execution_count": 301,
      "outputs": []
    },
    {
      "cell_type": "code",
      "metadata": {
        "id": "A8vGAjcyfO_I",
        "colab_type": "code",
        "colab": {}
      },
      "source": [
        "def getSentVectors(data):\n",
        "    vectors = []\n",
        "    for i, sent in enumerate(data):\n",
        "        vector = getWeightedVec(sent, i)\n",
        "        vectors.append(vector)\n",
        "\n",
        "    return vectors"
      ],
      "execution_count": 208,
      "outputs": []
    },
    {
      "cell_type": "code",
      "metadata": {
        "id": "Zy4AMQCJxEm4",
        "colab_type": "code",
        "colab": {
          "base_uri": "https://localhost:8080/",
          "height": 34
        },
        "outputId": "4f615968-eb28-4ddd-80e9-e97495a329ea"
      },
      "source": [
        "sent_vec = getSentVectors(pdata)\n",
        "len(sent_vec)"
      ],
      "execution_count": 302,
      "outputs": [
        {
          "output_type": "execute_result",
          "data": {
            "text/plain": [
              "64"
            ]
          },
          "metadata": {
            "tags": []
          },
          "execution_count": 302
        }
      ]
    },
    {
      "cell_type": "markdown",
      "metadata": {
        "id": "q5i30koHA8sI",
        "colab_type": "text"
      },
      "source": [
        "## Cosine Similarity"
      ]
    },
    {
      "cell_type": "code",
      "metadata": {
        "id": "kleIDJ8PA_UJ",
        "colab_type": "code",
        "colab": {}
      },
      "source": [
        "def cosine_sim(a, b):\n",
        "    cos_sim = np.dot(a, b)/(np.linalg.norm(a)*np.linalg.norm(b))\n",
        "    return cos_sim"
      ],
      "execution_count": 93,
      "outputs": []
    },
    {
      "cell_type": "code",
      "metadata": {
        "id": "PM101L3kBDWQ",
        "colab_type": "code",
        "collapsed": true,
        "colab": {
          "base_uri": "https://localhost:8080/",
          "height": 224
        },
        "outputId": "4cca0489-a8ec-4f59-cab0-ce0350e4afc7"
      },
      "source": [
        "print(f'1. {data[1]} \\n2. {data[61]}')\n",
        "print('\\ncosine similarity: ', cosine_sim(sent_vec[1], sent_vec[61]))"
      ],
      "execution_count": 94,
      "outputs": [
        {
          "output_type": "stream",
          "text": [
            "1. ngb-living official mail id is info@ngb-living.de \n",
            "2. the basic rules for living in ngb-living home are:\n",
            "ventilation: keep your rooms and the common areas well ventilated.\n",
            "cleaning: keep the rooms and all the common areas clean. preferably, there should be a cleaning schedule for the housemates for equal distribution of cleaning roles and that the apartment stays clean.\n",
            "minor repairs like light bulbs, toilet seats, shower hose, defective door handles, sockets, kitchen cutlery, small electrical equipment etc. are to be attended by the tenants at their own costs.\n",
            "remember to turn off the heaters and close the windows, especially when you are going out. exorbitant heater bills will be charged additionally.\n",
            "in case of emergencies, especially during weekends and non-working hours, you should always get in touch with the contacts posted in the hallway passage after the entrance.\n",
            "this also applies to power outages, water problems and heating problems.\n",
            "in the unlikely event of danger to your person or health, call the police on 110 or the fire brigade / ambulance on 112.\n",
            "\n",
            "cosine similarity:  0.43252545424890665\n"
          ],
          "name": "stdout"
        }
      ]
    },
    {
      "cell_type": "markdown",
      "metadata": {
        "id": "SDYky6o9pbiR",
        "colab_type": "text"
      },
      "source": [
        "## Query Handler"
      ]
    },
    {
      "cell_type": "code",
      "metadata": {
        "id": "BckCoOYC0GhZ",
        "colab_type": "code",
        "colab": {}
      },
      "source": [
        "def get_query_tfidf(pquery):\n",
        "    N = len(pdata)\n",
        "    tokens = [token.text for token in nlp(pquery[0]) if not (token.text).isspace()]\n",
        "    counter = Counter(tokens)\n",
        "    for term in set(tokens):\n",
        "        tf = counter[term]/len(tokens)\n",
        "        try: df = DF[term]\n",
        "        except: df = 0\n",
        "        idf = np.log((N+1)/(df + 1))\n",
        "    \n",
        "    return tf * idf"
      ],
      "execution_count": 176,
      "outputs": []
    },
    {
      "cell_type": "markdown",
      "metadata": {
        "id": "a0AWuXVP2bQE",
        "colab_type": "text"
      },
      "source": [
        "### TF-IDF Query"
      ]
    },
    {
      "cell_type": "code",
      "metadata": {
        "id": "j5VhtngCpg_X",
        "colab_type": "code",
        "colab": {}
      },
      "source": [
        "def get_query_vector(pquery):\n",
        "    q_vector = np.zeros((len(vocab)))\n",
        "    tf_idf = get_query_tfidf(pquery)\n",
        "    \n",
        "    try:\n",
        "        idx = vocab.index(term)\n",
        "        q_vector[idx] = tf * idf\n",
        "    except: pass\n",
        "    \n",
        "    return q_vector"
      ],
      "execution_count": 177,
      "outputs": []
    },
    {
      "cell_type": "code",
      "metadata": {
        "id": "5zetFT7jtL-s",
        "colab_type": "code",
        "colab": {}
      },
      "source": [
        "def get_top_responses(q_vector, k=5):\n",
        "    if k > len(pdata): k = len(pdata)\n",
        "    scores = []\n",
        "    for i, d_vec in enumerate(sent_vec):\n",
        "        cos_score = cosine_sim(q_vector, d_vec)\n",
        "        scores.append((cos_score, i))\n",
        "    scores.sort(reverse=True)\n",
        "\n",
        "    return [scores[i] for i in range(k)]"
      ],
      "execution_count": 178,
      "outputs": []
    },
    {
      "cell_type": "markdown",
      "metadata": {
        "id": "2mgILCkWpMHv",
        "colab_type": "text"
      },
      "source": [
        "## Test Query"
      ]
    },
    {
      "cell_type": "code",
      "metadata": {
        "id": "iqO7bWyvsfCs",
        "colab_type": "code",
        "colab": {
          "base_uri": "https://localhost:8080/",
          "height": 119
        },
        "outputId": "bcd0d908-49e3-482b-d5e6-2bd931e7ae3c"
      },
      "source": [
        "print('Please input a query> ')\n",
        "query = input()\n",
        "pquery = preprocess([''.join(query)])\n",
        "print('pquery:', pquery)\n",
        "q_tfidf = get_query_tfidf(pquery)\n",
        "q_vector = getWeightedVec(sent=pquery[0], i=0, tfidf=q_tfidf, q=True)\n",
        "responses = get_top_responses(q_vector)\n",
        "top_doc_id = responses[0][1]\n",
        "\n",
        "print(f'Answer> {df_numpy[top_doc_id][0]}\\n')\n",
        "print(responses)"
      ],
      "execution_count": 311,
      "outputs": [
        {
          "output_type": "stream",
          "text": [
            "Please input a query> \n",
            "what is the cancellation policy\n",
            "pquery: ['cancellation policy']\n",
            "Answer> According to the German clause , you are entitled to get 70% of the security deposit amount after 6 weeks and the remaining 30% after 6 months of departure.\n",
            "\n",
            "[(0.68170726, 33), (0.63445646, 61), (0.6249736, 13), (0.6230175, 32), (0.61617666, 52)]\n"
          ],
          "name": "stdout"
        }
      ]
    },
    {
      "cell_type": "code",
      "metadata": {
        "id": "SNapMpiVp9zY",
        "colab_type": "code",
        "colab": {}
      },
      "source": [
        "# res = nlp(pdata[20])\n",
        "# q = nlp('room key lost')\n",
        "# cosine_sim(q.vector, res.vector)"
      ],
      "execution_count": 248,
      "outputs": []
    },
    {
      "cell_type": "code",
      "metadata": {
        "id": "JAwpDQSTH5_B",
        "colab_type": "code",
        "colab": {
          "base_uri": "https://localhost:8080/",
          "height": 86
        },
        "outputId": "b622c2fd-279b-43f2-ee81-b15ad49af116"
      },
      "source": [
        "pdata[60]"
      ],
      "execution_count": 309,
      "outputs": [
        {
          "output_type": "execute_result",
          "data": {
            "application/vnd.google.colaboratory.intrinsic": {
              "type": "string"
            },
            "text/plain": [
              "'basic rule live ngbliving home ventilation room common area ventilate cleaning room common area clean preferably clean schedule housemate equal distribution clean role apartment stay clean minor repair like light bulb toilet seat shower hose defective door handle socket kitchen cutlery small electrical equipment etc attend tenant cost remember turn heater close window especially go exorbitant heater bill charge additionally case emergency especially weekend non working hour touch contact post hallway passage entrance apply power outage water problem heat problem unlikely event danger person health police 110 fire brigade ambulance 112'"
            ]
          },
          "metadata": {
            "tags": []
          },
          "execution_count": 309
        }
      ]
    }
  ]
}